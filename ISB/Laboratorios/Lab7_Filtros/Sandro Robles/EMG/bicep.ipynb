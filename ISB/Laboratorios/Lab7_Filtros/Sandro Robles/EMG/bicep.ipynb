{
 "cells": [
  {
   "cell_type": "code",
   "execution_count": 1,
   "metadata": {},
   "outputs": [
    {
     "ename": "FileNotFoundError",
     "evalue": "bicep fuerza.txt not found.",
     "output_type": "error",
     "traceback": [
      "\u001b[1;31m---------------------------------------------------------------------------\u001b[0m",
      "\u001b[1;31mFileNotFoundError\u001b[0m                         Traceback (most recent call last)",
      "Cell \u001b[1;32mIn[1], line 9\u001b[0m\n\u001b[0;32m      5\u001b[0m \u001b[38;5;28;01mfrom\u001b[39;00m \u001b[38;5;21;01mtqdm\u001b[39;00m \u001b[38;5;28;01mimport\u001b[39;00m tqdm\n\u001b[0;32m      8\u001b[0m \u001b[38;5;66;03m#Primero leemos todos los archivos txt\u001b[39;00m\n\u001b[1;32m----> 9\u001b[0m array_reposo \u001b[38;5;241m=\u001b[39m np\u001b[38;5;241m.\u001b[39mgenfromtxt(\u001b[38;5;124m\"\u001b[39m\u001b[38;5;124mbicep fuerza.txt\u001b[39m\u001b[38;5;124m\"\u001b[39m,delimiter\u001b[38;5;241m=\u001b[39m\u001b[38;5;124m\"\u001b[39m\u001b[38;5;124m\t\u001b[39m\u001b[38;5;124m\"\u001b[39m,skip_header \u001b[38;5;241m=\u001b[39m \u001b[38;5;241m2\u001b[39m)\n\u001b[0;32m     10\u001b[0m array_respiracion\u001b[38;5;241m=\u001b[39mnp\u001b[38;5;241m.\u001b[39mgenfromtxt(\u001b[38;5;124m\"\u001b[39m\u001b[38;5;124mbicep movimiento.txt\u001b[39m\u001b[38;5;124m\"\u001b[39m,delimiter\u001b[38;5;241m=\u001b[39m\u001b[38;5;124m\"\u001b[39m\u001b[38;5;124m\t\u001b[39m\u001b[38;5;124m\"\u001b[39m,skip_header \u001b[38;5;241m=\u001b[39m \u001b[38;5;241m2\u001b[39m)\n\u001b[0;32m     11\u001b[0m array_ejercicio\u001b[38;5;241m=\u001b[39mnp\u001b[38;5;241m.\u001b[39mgenfromtxt(\u001b[38;5;124m\"\u001b[39m\u001b[38;5;124mbicep reposo.txt\u001b[39m\u001b[38;5;124m\"\u001b[39m,delimiter\u001b[38;5;241m=\u001b[39m\u001b[38;5;124m\"\u001b[39m\u001b[38;5;124m\t\u001b[39m\u001b[38;5;124m\"\u001b[39m,skip_header \u001b[38;5;241m=\u001b[39m \u001b[38;5;241m2\u001b[39m)\n",
      "File \u001b[1;32mc:\\Users\\User\\anaconda3\\Lib\\site-packages\\numpy\\lib\\npyio.py:1980\u001b[0m, in \u001b[0;36mgenfromtxt\u001b[1;34m(fname, dtype, comments, delimiter, skip_header, skip_footer, converters, missing_values, filling_values, usecols, names, excludelist, deletechars, replace_space, autostrip, case_sensitive, defaultfmt, unpack, usemask, loose, invalid_raise, max_rows, encoding, ndmin, like)\u001b[0m\n\u001b[0;32m   1978\u001b[0m     fname \u001b[38;5;241m=\u001b[39m os_fspath(fname)\n\u001b[0;32m   1979\u001b[0m \u001b[38;5;28;01mif\u001b[39;00m \u001b[38;5;28misinstance\u001b[39m(fname, \u001b[38;5;28mstr\u001b[39m):\n\u001b[1;32m-> 1980\u001b[0m     fid \u001b[38;5;241m=\u001b[39m np\u001b[38;5;241m.\u001b[39mlib\u001b[38;5;241m.\u001b[39m_datasource\u001b[38;5;241m.\u001b[39mopen(fname, \u001b[38;5;124m'\u001b[39m\u001b[38;5;124mrt\u001b[39m\u001b[38;5;124m'\u001b[39m, encoding\u001b[38;5;241m=\u001b[39mencoding)\n\u001b[0;32m   1981\u001b[0m     fid_ctx \u001b[38;5;241m=\u001b[39m contextlib\u001b[38;5;241m.\u001b[39mclosing(fid)\n\u001b[0;32m   1982\u001b[0m \u001b[38;5;28;01melse\u001b[39;00m:\n",
      "File \u001b[1;32mc:\\Users\\User\\anaconda3\\Lib\\site-packages\\numpy\\lib\\_datasource.py:193\u001b[0m, in \u001b[0;36mopen\u001b[1;34m(path, mode, destpath, encoding, newline)\u001b[0m\n\u001b[0;32m    156\u001b[0m \u001b[38;5;250m\u001b[39m\u001b[38;5;124;03m\"\"\"\u001b[39;00m\n\u001b[0;32m    157\u001b[0m \u001b[38;5;124;03mOpen `path` with `mode` and return the file object.\u001b[39;00m\n\u001b[0;32m    158\u001b[0m \n\u001b[1;32m   (...)\u001b[0m\n\u001b[0;32m    189\u001b[0m \n\u001b[0;32m    190\u001b[0m \u001b[38;5;124;03m\"\"\"\u001b[39;00m\n\u001b[0;32m    192\u001b[0m ds \u001b[38;5;241m=\u001b[39m DataSource(destpath)\n\u001b[1;32m--> 193\u001b[0m \u001b[38;5;28;01mreturn\u001b[39;00m ds\u001b[38;5;241m.\u001b[39mopen(path, mode, encoding\u001b[38;5;241m=\u001b[39mencoding, newline\u001b[38;5;241m=\u001b[39mnewline)\n",
      "File \u001b[1;32mc:\\Users\\User\\anaconda3\\Lib\\site-packages\\numpy\\lib\\_datasource.py:533\u001b[0m, in \u001b[0;36mDataSource.open\u001b[1;34m(self, path, mode, encoding, newline)\u001b[0m\n\u001b[0;32m    530\u001b[0m     \u001b[38;5;28;01mreturn\u001b[39;00m _file_openers[ext](found, mode\u001b[38;5;241m=\u001b[39mmode,\n\u001b[0;32m    531\u001b[0m                               encoding\u001b[38;5;241m=\u001b[39mencoding, newline\u001b[38;5;241m=\u001b[39mnewline)\n\u001b[0;32m    532\u001b[0m \u001b[38;5;28;01melse\u001b[39;00m:\n\u001b[1;32m--> 533\u001b[0m     \u001b[38;5;28;01mraise\u001b[39;00m \u001b[38;5;167;01mFileNotFoundError\u001b[39;00m(\u001b[38;5;124mf\u001b[39m\u001b[38;5;124m\"\u001b[39m\u001b[38;5;132;01m{\u001b[39;00mpath\u001b[38;5;132;01m}\u001b[39;00m\u001b[38;5;124m not found.\u001b[39m\u001b[38;5;124m\"\u001b[39m)\n",
      "\u001b[1;31mFileNotFoundError\u001b[0m: bicep fuerza.txt not found."
     ]
    }
   ],
   "source": [
    "#Primero importamos las librerias necesarias\n",
    "import numpy as np\n",
    "import matplotlib.pyplot as plt\n",
    "from scipy.signal import firwin, lfilter\n",
    "from tqdm import tqdm\n",
    "     \n",
    "\n",
    "#Primero leemos todos los archivos txt\n",
    "array_reposo = np.genfromtxt(\"bicep fuerza.txt\",delimiter=\"\t\",skip_header = 2)\n",
    "array_respiracion=np.genfromtxt(\"bicep movimiento.txt\",delimiter=\"\t\",skip_header = 2)\n",
    "array_ejercicio=np.genfromtxt(\"bicep reposo.txt\",delimiter=\"\t\",skip_header = 2)\n",
    "\n",
    "#Guardamos los valores de cada caso a un tipo de array\n",
    "valores_reposo=array_reposo[:,-2]\n",
    "valores_respiracion=array_respiracion[:,-2]\n",
    "valores_ejercicio=array_ejercicio[:,-2]\n",
    "\n",
    "#Determinamos la longitud de cada arreglo\n",
    "cantidad_reposo=np.size(valores_reposo);\n",
    "cantidad_respiracion=np.size(valores_respiracion);\n",
    "cantidad_ejercicio=np.size(valores_ejercicio);\n",
    "\n",
    "#Siendo la frecuencia de muestreo del BITalino de 1000 Hz\n",
    "Fs=1000 #Hz\n",
    "#Creamos los vectores de tiempo para cada caso\n",
    "tiempo_reposo=np.arange(0,cantidad_reposo)\n",
    "tiempo_reposo=tiempo_reposo/1000\n",
    "\n",
    "tiempo_respiracion=np.arange(0,cantidad_respiracion)\n",
    "tiempo_respiracion=tiempo_respiracion/1000\n",
    "\n",
    "tiempo_ejercicio=np.arange(0,cantidad_ejercicio)\n",
    "tiempo_ejercicio=tiempo_ejercicio/1000\n",
    "\n",
    "#Convertimos los valores ADC a voltaje (mV)\n",
    "valores_reposo=(((valores_reposo/1024)-0.5)*3.3)/(1100)\n",
    "valores_reposo=valores_reposo*1000\n",
    "\n",
    "valores_respiracion=(((valores_respiracion/1024)-0.5)*3.3)/(1100)\n",
    "valores_respiracion=valores_respiracion*1000\n",
    "\n",
    "valores_ejercicio=(((valores_ejercicio/1024)-0.5)*3.3)/(1100)\n",
    "valores_ejercicio=valores_ejercicio*1000\n",
    "     \n",
    "\n",
    "#Primero, mostramos todas las senales en crudo, es decir, sin filtrar\n",
    "plt.figure(1,[15,15]);\n",
    "plt.subplot(3,1,1);plt.plot(tiempo_reposo,valores_reposo);plt.xlabel('Tiempo (s)');plt.ylabel('Amplitud (mV)');plt.title('En reposo');plt.xlim([3,8])\n",
    "\n",
    "plt.subplot(3,1,2);plt.plot(tiempo_respiracion,valores_respiracion);plt.xlabel('Tiempo (s)');plt.ylabel('Amplitud (mV)');plt.title('En respiracion');plt.xlim([5,10])\n",
    "plt.subplot(3,1,3);plt.plot(tiempo_ejercicio,valores_ejercicio);plt.xlabel('Tiempo (s)');plt.ylabel('Amplitud (mV)');plt.title('Tras Ejercicio');plt.xlim([50,55])\n",
    "     "
   ]
  }
 ],
 "metadata": {
  "kernelspec": {
   "display_name": "base",
   "language": "python",
   "name": "python3"
  },
  "language_info": {
   "codemirror_mode": {
    "name": "ipython",
    "version": 3
   },
   "file_extension": ".py",
   "mimetype": "text/x-python",
   "name": "python",
   "nbconvert_exporter": "python",
   "pygments_lexer": "ipython3",
   "version": "3.12.4"
  }
 },
 "nbformat": 4,
 "nbformat_minor": 2
}
