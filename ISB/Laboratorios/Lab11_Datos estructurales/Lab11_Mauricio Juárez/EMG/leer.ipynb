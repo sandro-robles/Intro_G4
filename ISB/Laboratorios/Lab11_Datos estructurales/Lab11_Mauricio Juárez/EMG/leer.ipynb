{
 "cells": [
  {
   "cell_type": "code",
   "execution_count": 2,
   "metadata": {},
   "outputs": [],
   "source": [
    "import pandas as pd\n",
    "import numpy as np\n",
    "import csv\n",
    "import matplotlib.pyplot as plt"
   ]
  },
  {
   "cell_type": "code",
   "execution_count": 3,
   "metadata": {},
   "outputs": [],
   "source": [
    "def lectura(n_archivo):\n",
    "    with open(n_archivo, 'r') as archivo:\n",
    "        n=0\n",
    "        signal=np.array([])\n",
    "        for linea in archivo:\n",
    "            if n>2:\n",
    "                #print(linea)\n",
    "                vec=linea.split()\n",
    "                signal=np.append(signal,int(vec[5]))\n",
    "                n=n+1\n",
    "            else:\n",
    "                n=n+1\n",
    "        t=np.arange(len(signal))\n",
    "        fs=1000\n",
    "        ts=1/fs\n",
    "        t=t*ts\n",
    "        return t,signal"
   ]
  },
  {
   "cell_type": "code",
   "execution_count": 5,
   "metadata": {},
   "outputs": [],
   "source": [
    "t1,signal1=lectura('biceps fuerza.txt')\n",
    "t2,signal2=lectura('biceps movimiento.txt')\n",
    "t3,signal3=lectura('biceps reposo.txt')\n",
    "\n",
    "\n",
    "archivo_final1='biceps_fuerza.csv'\n",
    "archivo_final2='biceps_movimiento.csv'\n",
    "archivo_final3='biceps_reposo.csv'\n",
    "\n",
    "#for i in range (0, len(signal1))#\n",
    "#\n",
    "#    with open(archivo_final1, mode='w', newline='') as file:\n",
    "#        writer = csv.writer(file)\n",
    "#        \n",
    "#        # Escribir encabezados\n",
    "##        \n",
    " #       # Escribir filas\n",
    " #       for t, s in zip(t1, signal1):\n",
    "#            writer.writerow([t, s])"
   ]
  },
  {
   "cell_type": "code",
   "execution_count": 8,
   "metadata": {},
   "outputs": [
    {
     "name": "stdout",
     "output_type": "stream",
     "text": [
      "[array([0.000e+00, 1.000e+00, 2.000e+00, ..., 1.997e+03, 1.998e+03,\n",
      "       1.999e+03])]\n",
      "[array([0.000e+00, 1.000e+00, 2.000e+00, ..., 1.997e+03, 1.998e+03,\n",
      "       1.999e+03]), array([2000., 2001., 2002., ..., 3997., 3998., 3999.])]\n",
      "[array([0.000e+00, 1.000e+00, 2.000e+00, ..., 1.997e+03, 1.998e+03,\n",
      "       1.999e+03]), array([2000., 2001., 2002., ..., 3997., 3998., 3999.]), array([4000., 4001., 4002., ..., 5997., 5998., 5999.])]\n",
      "[array([0.000e+00, 1.000e+00, 2.000e+00, ..., 1.997e+03, 1.998e+03,\n",
      "       1.999e+03]), array([2000., 2001., 2002., ..., 3997., 3998., 3999.]), array([4000., 4001., 4002., ..., 5997., 5998., 5999.]), array([6000., 6001., 6002., ..., 7997., 7998., 7999.])]\n",
      "[array([0.000e+00, 1.000e+00, 2.000e+00, ..., 1.997e+03, 1.998e+03,\n",
      "       1.999e+03]), array([2000., 2001., 2002., ..., 3997., 3998., 3999.]), array([4000., 4001., 4002., ..., 5997., 5998., 5999.]), array([6000., 6001., 6002., ..., 7997., 7998., 7999.]), array([8000., 8001., 8002., ..., 9997., 9998., 9999.])]\n",
      "[array([0.000e+00, 1.000e+00, 2.000e+00, ..., 1.997e+03, 1.998e+03,\n",
      "       1.999e+03]), array([2000., 2001., 2002., ..., 3997., 3998., 3999.]), array([4000., 4001., 4002., ..., 5997., 5998., 5999.]), array([6000., 6001., 6002., ..., 7997., 7998., 7999.]), array([8000., 8001., 8002., ..., 9997., 9998., 9999.]), array([10000., 10001., 10002., ..., 11997., 11998., 11999.])]\n",
      "[array([0.000e+00, 1.000e+00, 2.000e+00, ..., 1.997e+03, 1.998e+03,\n",
      "       1.999e+03]), array([2000., 2001., 2002., ..., 3997., 3998., 3999.]), array([4000., 4001., 4002., ..., 5997., 5998., 5999.]), array([6000., 6001., 6002., ..., 7997., 7998., 7999.]), array([8000., 8001., 8002., ..., 9997., 9998., 9999.]), array([10000., 10001., 10002., ..., 11997., 11998., 11999.]), array([12000., 12001., 12002., ..., 13997., 13998., 13999.])]\n",
      "[array([0.000e+00, 1.000e+00, 2.000e+00, ..., 1.997e+03, 1.998e+03,\n",
      "       1.999e+03]), array([2000., 2001., 2002., ..., 3997., 3998., 3999.]), array([4000., 4001., 4002., ..., 5997., 5998., 5999.]), array([6000., 6001., 6002., ..., 7997., 7998., 7999.]), array([8000., 8001., 8002., ..., 9997., 9998., 9999.]), array([10000., 10001., 10002., ..., 11997., 11998., 11999.]), array([12000., 12001., 12002., ..., 13997., 13998., 13999.]), array([14000., 14001., 14002., ..., 15997., 15998., 15999.])]\n"
     ]
    }
   ],
   "source": [
    "flag=0\n",
    "q=[]\n",
    "u=[]\n",
    "for i in range(2000,len(signal3),2000):\n",
    "    nom='brintervalo_'+str(int(i/2000)) +'.csv'\n",
    "    signal=signal3[flag:i]\n",
    "    t=t1[flag:i]*1000\n",
    "    q.append(signal)\n",
    "    u.append(t)\n",
    "    print(u)\n",
    "    flag=flag+2000\n",
    "    with open(nom, mode='w', newline='') as file:\n",
    "        writer = csv.writer(file)\n",
    "        \n",
    "        # Escribir encabezados\n",
    "        writer.writerow(['tiempo', 'valor'])\n",
    "        \n",
    "        # Escribir filas\n",
    "        for t, s in zip(t, signal):\n",
    "            writer.writerow([t, s])"
   ]
  },
  {
   "cell_type": "code",
   "execution_count": 80,
   "metadata": {},
   "outputs": [
    {
     "data": {
      "text/plain": [
       "array([18000., 18001., 18002., ..., 19997., 19998., 19999.])"
      ]
     },
     "execution_count": 80,
     "metadata": {},
     "output_type": "execute_result"
    }
   ],
   "source": [
    "u[9]"
   ]
  },
  {
   "cell_type": "code",
   "execution_count": 78,
   "metadata": {},
   "outputs": [
    {
     "ename": "IndexError",
     "evalue": "list index out of range",
     "output_type": "error",
     "traceback": [
      "\u001b[1;31m---------------------------------------------------------------------------\u001b[0m",
      "\u001b[1;31mIndexError\u001b[0m                                Traceback (most recent call last)",
      "Cell \u001b[1;32mIn[78], line 1\u001b[0m\n\u001b[1;32m----> 1\u001b[0m plt\u001b[38;5;241m.\u001b[39mplot(\u001b[43mu\u001b[49m\u001b[43m[\u001b[49m\u001b[38;5;241;43m10\u001b[39;49m\u001b[43m]\u001b[49m,q[\u001b[38;5;241m10\u001b[39m])\n",
      "\u001b[1;31mIndexError\u001b[0m: list index out of range"
     ]
    }
   ],
   "source": [
    "plt.plot(u[10],q[10])"
   ]
  }
 ],
 "metadata": {
  "kernelspec": {
   "display_name": "Python 3",
   "language": "python",
   "name": "python3"
  },
  "language_info": {
   "codemirror_mode": {
    "name": "ipython",
    "version": 3
   },
   "file_extension": ".py",
   "mimetype": "text/x-python",
   "name": "python",
   "nbconvert_exporter": "python",
   "pygments_lexer": "ipython3",
   "version": "3.12.2"
  }
 },
 "nbformat": 4,
 "nbformat_minor": 2
}
