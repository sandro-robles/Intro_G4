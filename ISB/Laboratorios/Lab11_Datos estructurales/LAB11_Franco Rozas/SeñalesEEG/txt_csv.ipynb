{
 "cells": [
  {
   "cell_type": "code",
   "execution_count": 2,
   "metadata": {},
   "outputs": [],
   "source": [
    "import pandas as pd\n",
    "import numpy as np\n",
    "import csv"
   ]
  },
  {
   "cell_type": "code",
   "execution_count": 7,
   "metadata": {},
   "outputs": [],
   "source": [
    "data_cruda = np.loadtxt('eegsimples.txt')\n",
    "data_cruda = data_cruda[:, -1]\n",
    "signal = ((data_cruda-507)/1023)*3.3*1000\n",
    "fs = 1000\n",
    "signal_data =list(signal)\n",
    "total_data = len(signal_data)\n",
    "time_total = total_data\n",
    "time_data = np.linspace(0,time_total,total_data)\n",
    "time_data = list(time_data)\n",
    "\n",
    "output_file = 'EEG_pregsimple.csv'\n",
    "\n",
    "# Escribir los datos en un archivo CSV\n",
    "with open(output_file, 'w', newline='') as csvfile:\n",
    "    csvwriter = csv.writer(csvfile)\n",
    "    \n",
    "    # Escribir el encabezado\n",
    "    csvwriter.writerow(['timestamp', 'valores'])\n",
    "    \n",
    "    # Escribir los datos\n",
    "    for t, v in zip(time_data, signal_data):\n",
    "        csvwriter.writerow([t, v])"
   ]
  }
 ],
 "metadata": {
  "kernelspec": {
   "display_name": "base",
   "language": "python",
   "name": "python3"
  },
  "language_info": {
   "codemirror_mode": {
    "name": "ipython",
    "version": 3
   },
   "file_extension": ".py",
   "mimetype": "text/x-python",
   "name": "python",
   "nbconvert_exporter": "python",
   "pygments_lexer": "ipython3",
   "version": "3.11.7"
  }
 },
 "nbformat": 4,
 "nbformat_minor": 2
}
